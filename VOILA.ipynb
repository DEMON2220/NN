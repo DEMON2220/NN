{
  "nbformat": 4,
  "nbformat_minor": 0,
  "metadata": {
    "colab": {
      "name": "VOILA.ipynb",
      "provenance": []
    },
    "kernelspec": {
      "display_name": "Python 3",
      "name": "python3"
    }
  },
  "cells": [
    {
      "cell_type": "code",
      "metadata": {
        "colab": {
          "base_uri": "https://localhost:8080/"
        },
        "id": "PD9C0cmEg-yQ",
        "outputId": "6713ad21-8cce-488a-c964-6eaf21144dae"
      },
      "source": [
        "!pip install -Uqq fastbook"
      ],
      "execution_count": 1,
      "outputs": [
        {
          "output_type": "stream",
          "text": [
            "\u001b[K     |████████████████████████████████| 727kB 5.8MB/s \n",
            "\u001b[K     |████████████████████████████████| 194kB 29.1MB/s \n",
            "\u001b[K     |████████████████████████████████| 1.2MB 25.0MB/s \n",
            "\u001b[K     |████████████████████████████████| 51kB 6.8MB/s \n",
            "\u001b[K     |████████████████████████████████| 61kB 7.7MB/s \n",
            "\u001b[?25h"
          ],
          "name": "stdout"
        }
      ]
    },
    {
      "cell_type": "code",
      "metadata": {
        "colab": {
          "base_uri": "https://localhost:8080/"
        },
        "id": "J3J0SCKmE7N7",
        "outputId": "027d26c2-761a-46a3-c619-42a6c36f0962"
      },
      "source": [
        "!git clone https://github.com/voila-dashboards/voila\r\n"
      ],
      "execution_count": null,
      "outputs": [
        {
          "output_type": "stream",
          "text": [
            "Cloning into 'voila'...\n",
            "remote: Enumerating objects: 70, done.\u001b[K\n",
            "remote: Counting objects: 100% (70/70), done.\u001b[K\n",
            "remote: Compressing objects: 100% (48/48), done.\u001b[K\n",
            "remote: Total 4649 (delta 31), reused 50 (delta 22), pack-reused 4579\u001b[K\n",
            "Receiving objects: 100% (4649/4649), 15.48 MiB | 28.66 MiB/s, done.\n",
            "Resolving deltas: 100% (2672/2672), done.\n"
          ],
          "name": "stdout"
        }
      ]
    },
    {
      "cell_type": "code",
      "metadata": {
        "colab": {
          "background_save": true,
          "base_uri": "https://localhost:8080/"
        },
        "id": "zrT0Vgtn550k",
        "outputId": "e71967a6-6e45-4aec-d4a0-0dc0b74eddb2"
      },
      "source": [
        "!voila"
      ],
      "execution_count": null,
      "outputs": [
        {
          "output_type": "stream",
          "text": [
            "[Voila] Using /tmp to store connection files\n",
            "[Voila] Storing connection files in /tmp/voila_ppb5s185.\n",
            "[Voila] Serving static files from /usr/local/lib/python3.6/dist-packages/voila/static.\n",
            "[Voila] Voilà is running at:\n",
            "http://localhost:8866/\n",
            "[Voila] WARNING | No web browser found: could not locate runnable browser.\n",
            "\n",
            "\n",
            "[Voila] Stopping...\n",
            "^C\n"
          ],
          "name": "stdout"
        }
      ]
    },
    {
      "cell_type": "code",
      "metadata": {
        "id": "027o021CCrqX",
        "colab": {
          "base_uri": "https://localhost:8080/"
        },
        "outputId": "c5766f7e-7431-4e03-a045-2c5ece855e5f"
      },
      "source": [
        "import fastbook\r\n",
        "fastbook.setup_book()\r\n",
        "\r\n"
      ],
      "execution_count": 2,
      "outputs": [
        {
          "output_type": "stream",
          "text": [
            "Mounted at /content/gdrive\n"
          ],
          "name": "stdout"
        }
      ]
    },
    {
      "cell_type": "code",
      "metadata": {
        "id": "fAZ4xO9khPxQ"
      },
      "source": [
        "from fastbook import *\r\n",
        "from fastai.vision.widgets import *"
      ],
      "execution_count": 3,
      "outputs": []
    },
    {
      "cell_type": "code",
      "metadata": {
        "colab": {
          "base_uri": "https://localhost:8080/"
        },
        "id": "RB6QewG1hkKj",
        "outputId": "02c9ee27-67e4-406a-87f7-817d50300ec4"
      },
      "source": [
        "key = os.environ.get('AZURE_SEARCH_KEY', '311a407200cb4d27897b15e115043105')\r\n",
        "results = search_images_bing(key, 'grizzly bear')\r\n",
        "ims = results.attrgot('content_url')\r\n",
        "len(ims)"
      ],
      "execution_count": 5,
      "outputs": [
        {
          "output_type": "execute_result",
          "data": {
            "text/plain": [
              "150"
            ]
          },
          "metadata": {
            "tags": []
          },
          "execution_count": 5
        }
      ]
    },
    {
      "cell_type": "code",
      "metadata": {
        "colab": {
          "base_uri": "https://localhost:8080/",
          "height": 52
        },
        "id": "FtvKLTPvh-Fv",
        "outputId": "f22c4f06-bbc7-4b82-daad-b1991579bf86"
      },
      "source": [
        "#hide\r\n",
        "ims = ['http://3.bp.blogspot.com/-S1scRCkI3vY/UHzV2kucsPI/AAAAAAAAA-k/YQ5UzHEm9Ss/s1600/Grizzly%2BBear%2BWildlife.jpg']\r\n",
        "dest = 'images/grizzly.jpg'\r\n",
        "download_url(ims[0], dest)\r\n",
        "print(ims[0])\r\n",
        "dest"
      ],
      "execution_count": 11,
      "outputs": [
        {
          "output_type": "stream",
          "text": [
            "http://3.bp.blogspot.com/-S1scRCkI3vY/UHzV2kucsPI/AAAAAAAAA-k/YQ5UzHEm9Ss/s1600/Grizzly%2BBear%2BWildlife.jpg\n"
          ],
          "name": "stdout"
        },
        {
          "output_type": "execute_result",
          "data": {
            "application/vnd.google.colaboratory.intrinsic+json": {
              "type": "string"
            },
            "text/plain": [
              "'images/grizzly.jpg'"
            ]
          },
          "metadata": {
            "tags": []
          },
          "execution_count": 11
        }
      ]
    },
    {
      "cell_type": "code",
      "metadata": {
        "colab": {
          "base_uri": "https://localhost:8080/",
          "height": 120
        },
        "id": "azR1GpT5iJ_u",
        "outputId": "dfa17837-9b6b-41c0-a734-0e3e5705da42"
      },
      "source": [
        "im = Image.open(dest)\r\n",
        "im.to_thumb(128,128)"
      ],
      "execution_count": 12,
      "outputs": [
        {
          "output_type": "execute_result",
          "data": {
            "image/png": "[encoded data removed]",
            "text/plain": [
              "<PIL.Image.Image image mode=RGB size=128x103 at 0x7FA4CBF55EB8>"
            ]
          },
          "metadata": {
            "tags": []
          },
          "execution_count": 12
        }
      ]
    },
    {
      "cell_type": "code",
      "metadata": {
        "id": "C5EizIHvjDgG"
      },
      "source": [
        "# ! pip install voila\r\n",
        "# ! jupyter serverextension enable --sys-prefix voila"
      ],
      "execution_count": 15,
      "outputs": []
    },
    {
      "cell_type": "code",
      "metadata": {
        "id": "hg3HdxdDo0eq"
      },
      "source": [
        ""
      ],
      "execution_count": null,
      "outputs": []
    }
  ]
}